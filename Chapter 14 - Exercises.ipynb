{
 "cells": [
  {
   "cell_type": "markdown",
   "metadata": {},
   "source": [
    "# Exercise 14.1"
   ]
  },
  {
   "cell_type": "markdown",
   "metadata": {},
   "source": [
    "This exercise is also inspired by an example in Jaynes, Probability Theory.\n",
    "\n",
    "Suppose you buy a mosquito trap that is supposed to reduce the population of mosquitoes near your house. Each week, you empty the trap and count the number of mosquitoes captured. After the first week, you count 30 mosquitoes. After the second week, you count 20 mosquitoes. Estimate the percentage change in the number of mosquitoes in your yard.\n",
    "\n",
    "To answer this question, you have to make some modeling decisions. Here are some suggestions:\n",
    "- Suppose that each week a large number of mosquitoes, N, is bred in a wetland near your home.\n",
    "- During the week, some fraction of them, f1, wander into your yard, and of those some fraction, f2, are caught in the trap.\n",
    "- Your solution should take into account your prior belief about how much N is likely to change from one week to the next. You can do that by adding a level to the hierarchy to model the percent change in N."
   ]
  },
  {
   "cell_type": "markdown",
   "metadata": {},
   "source": [
    "### Theory"
   ]
  },
  {
   "cell_type": "markdown",
   "metadata": {},
   "source": [
    "The solution to this problem is almost given in the chapter itself, disguised as the Geiger counter problem. I'll reuse some of the authors words."
   ]
  },
  {
   "cell_type": "markdown",
   "metadata": {},
   "source": [
    "To get started on a problem like this, think about the chain of causation that starts with the parameters of the system and ends with the observed data:\n",
    "\n",
    "<table>\n",
    "    <tr>\n",
    "        <th></th><th>Geiger</th><th>Mosquitoes</th>\n",
    "    </tr>\n",
    "    <tr>\n",
    "        <td>1</td>\n",
    "        <td>The source emits particles at an average rate, r.</td>\n",
    "        <td>The wetland near your home emits mosquitoes at an average rate $N$ every week</td>\n",
    "    </tr>\n",
    "    <tr>\n",
    "        <td>2</td>\n",
    "        <td>During any given second, the source emits $n$ particles toward the counter.</td>\n",
    "        <td>During the week, $n$ ($Nf_1$) are emited towards your home</td>\n",
    "    </tr>\n",
    "    <tr>\n",
    "        <td>3</td>\n",
    "        <td>Out of those $n$ particles, some number, $k$, get counted.</td>\n",
    "        <td>Out of those $n$ mosquitoes, some number, $k$ ($nf_2$), get counted (trapped)</td>\n",
    "    </tr>\n",
    "</table>\n"
   ]
  },
  {
   "cell_type": "markdown",
   "metadata": {},
   "source": [
    "#### Let's start simple"
   ]
  },
  {
   "cell_type": "markdown",
   "metadata": {},
   "source": [
    "- We know $k$ from the problem. Let's work with 30\n",
    "- We don't know $f_2$, the fraction that the zapper can catch.\n",
    "- For now we will assume we know how many mosquitoes are in our yard, say 50\n",
    "- Catching a mosquito is independent of the others. Then $k \\sim Binomial(50 ,f_2)$"
   ]
  },
  {
   "cell_type": "markdown",
   "metadata": {},
   "source": [
    "I have absolutely no idea how to model a bug zapper, so I'll say that every value for the binomial is possible."
   ]
  },
  {
   "cell_type": "code",
   "execution_count": 1,
   "metadata": {
    "collapsed": true
   },
   "outputs": [],
   "source": [
    "import sys\n",
    "import os\n",
    "sys.path.append(os.path.join(os.getcwd(), 'code'))"
   ]
  },
  {
   "cell_type": "code",
   "execution_count": 23,
   "metadata": {
    "collapsed": false
   },
   "outputs": [
    {
     "name": "stdout",
     "output_type": "stream",
     "text": [
      "Populating the interactive namespace from numpy and matplotlib\n"
     ]
    },
    {
     "name": "stderr",
     "output_type": "stream",
     "text": [
      "WARNING: pylab import has clobbered these variables: ['f']\n",
      "`%matplotlib` prevents importing * from pylab and numpy\n"
     ]
    }
   ],
   "source": [
    "%pylab inline"
   ]
  },
  {
   "cell_type": "code",
   "execution_count": 111,
   "metadata": {
    "collapsed": true
   },
   "outputs": [],
   "source": [
    "from thinkbayes2 import MakeUniformPmf, Suite, EvalBinomialPmf, MakePmfFromItems, MakePoissonPmf\n",
    "import matplotlib.pyplot as plt\n",
    "import seaborn as sns\n",
    "import numpy as np"
   ]
  },
  {
   "cell_type": "code",
   "execution_count": 56,
   "metadata": {
    "collapsed": true
   },
   "outputs": [],
   "source": [
    "class Zapper(Suite):\n",
    "    def __init__(self, n, step=100):\n",
    "        f_2 = MakeUniformPmf(0, 1, step)\n",
    "        self.n = n\n",
    "        Suite.__init__(self, f_2, label=n)\n",
    "        \n",
    "    def Likelihood(self, data, hypo):\n",
    "        k = data\n",
    "        p = hypo\n",
    "        return EvalBinomialPmf(k, self.n, p)\n",
    "    \n",
    "    def SuiteLikelihood(self, data):\n",
    "        total = 0\n",
    "        for hypo, prob in self.Items():\n",
    "            like = self.Likelihood(data, hypo)\n",
    "            total += prob * like\n",
    "        return total"
   ]
  },
  {
   "cell_type": "code",
   "execution_count": 57,
   "metadata": {
    "collapsed": false
   },
   "outputs": [
    {
     "data": {
      "text/plain": [
       "0.019411764705882236"
      ]
     },
     "execution_count": 57,
     "metadata": {},
     "output_type": "execute_result"
    }
   ],
   "source": [
    "zapper = Zapper(50)\n",
    "zapper.Update(30)"
   ]
  },
  {
   "cell_type": "code",
   "execution_count": 58,
   "metadata": {
    "collapsed": false
   },
   "outputs": [
    {
     "data": {
      "image/png": "[encoded data removed]",
      "text/plain": [
       "<matplotlib.figure.Figure at 0x11eb0dac8>"
      ]
     },
     "metadata": {},
     "output_type": "display_data"
    }
   ],
   "source": [
    "f, prob = zip(*sorted(zapper.Items()))\n",
    "plt.plot(f, prob)\n",
    "plt.title('Distribution of Binomial p parameter.\\nMean at p={:.4f}'.format(zapper.Mean()))\n",
    "plt.xlabel('p')\n",
    "_ = plt.ylabel('Probability')"
   ]
  },
  {
   "cell_type": "markdown",
   "metadata": {},
   "source": [
    "That looks good for modeling the zapper. We created a suite that models the efficiency of a zapper based on the data that we have. Now we will relaxe the assumption about $n$, which comes from $N*f_1$. A fraction $f_1$ of the $N$ mosquitoes born in the wetland comes to your yard. Again, no idea what that fraction could be. No prior at all, so let's say again that it's uniform.\n",
    "\n",
    "We will add a hierarchy now by setting N at 500 and letting $f_1$ free."
   ]
  },
  {
   "cell_type": "code",
   "execution_count": 103,
   "metadata": {
    "collapsed": true
   },
   "outputs": [],
   "source": [
    "class Yard(Suite):\n",
    "    def __init__(self, N, step=100):\n",
    "        Zappers = [Zapper(N*f1) for f1 in np.linspace(0,1,step)]\n",
    "        self.N = N\n",
    "        Suite.__init__(self, Zappers, label=N)\n",
    "\n",
    "    def Likelihood(self, data, hypo):\n",
    "        zapper = hypo\n",
    "        like = zapper.SuiteLikelihood(data)\n",
    "        return like\n",
    "    \n",
    "    def Update(self, data):\n",
    "        Suite.Update(self, data)\n",
    "        zapper_to_remove = []\n",
    "        for zapper in self.Values():\n",
    "            if zapper.label < data:\n",
    "                zapper_to_remove.append(zapper)\n",
    "            else:\n",
    "                zapper.Update(data)\n",
    "        # Removing the zapper with the assumption where n < data\n",
    "        for zapper in zapper_to_remove:\n",
    "            self.Remove(zapper)\n",
    "            \n",
    "    def DistOfN(self):\n",
    "        items = [(zapper.n, prob) for zapper, prob in self.Items()]\n",
    "        return MakePmfFromItems(items)"
   ]
  },
  {
   "cell_type": "code",
   "execution_count": 104,
   "metadata": {
    "collapsed": false
   },
   "outputs": [],
   "source": [
    "yard = Yard(500)\n",
    "yard.Update(30)"
   ]
  },
  {
   "cell_type": "code",
   "execution_count": 105,
   "metadata": {
    "collapsed": false
   },
   "outputs": [],
   "source": [
    "dist_of_n = yard.DistOfN()\n",
    "n, prob = zip(*sorted(dist_of_n.Items()))"
   ]
  },
  {
   "cell_type": "code",
   "execution_count": 106,
   "metadata": {
    "collapsed": false
   },
   "outputs": [
    {
     "data": {
      "text/plain": [
       "[<matplotlib.lines.Line2D at 0x113530e10>]"
      ]
     },
     "execution_count": 106,
     "metadata": {},
     "output_type": "execute_result"
    },
    {
     "data": {
      "image/png": "[encoded data removed]",
      "text/plain": [
       "<matplotlib.figure.Figure at 0x11516b400>"
      ]
     },
     "metadata": {},
     "output_type": "display_data"
    }
   ],
   "source": [
    "plt.plot(np.array(n), prob)"
   ]
  },
  {
   "cell_type": "markdown",
   "metadata": {},
   "source": [
    "According to this, the most probable value for $n$ is around 30, which is how many we catched. That means I'm catching every single mosquitoes. Something must be wrong."
   ]
  },
  {
   "cell_type": "markdown",
   "metadata": {},
   "source": [
    "Using the parallel with the detector where the source was emitting at an average rate $r$, $n$ particules were hitting the detector and only a fraction $f$ were detected. $n$ was following a Poisson distribution with parameter $r$.\n",
    "\n",
    "So if we say that the wetland is emitting mosquitoes at an average rate of $N$, $n$ ($=Nf_1$) is just the same distribution scaled by $f_1$. So let's work with that instead, $n \\sim Poisson(Nf_1)$. Let's fix $f_1$ for now at 1%."
   ]
  },
  {
   "cell_type": "code",
   "execution_count": 112,
   "metadata": {
    "collapsed": true
   },
   "outputs": [],
   "source": [
    "class Zapper(Suite):\n",
    "    def __init__(self, N, f_1=0.01, f_2=0.1, high=500, step=1):\n",
    "        pmf = MakePoissonPmf(N*f_1, high, step)\n",
    "        self.f_1 = f_1\n",
    "        self.f_2 = f_2\n",
    "        Suite.__init__(self, pmf, label=N)\n",
    "        \n",
    "    def Likelihood(self, data, hypo):\n",
    "        k = data\n",
    "        n = hypo\n",
    "        p = self.f_2\n",
    "        return EvalBinomialPmf(k, n, p)\n",
    "    \n",
    "    def SuiteLikelihood(self, data):\n",
    "        total = 0\n",
    "        for hypo, prob in self.Items():\n",
    "            like = self.Likelihood(data, hypo)\n",
    "            total += prob * like\n",
    "        return total"
   ]
  },
  {
   "cell_type": "code",
   "execution_count": 114,
   "metadata": {
    "collapsed": false
   },
   "outputs": [],
   "source": [
    "zapper = Zapper(50)"
   ]
  },
  {
   "cell_type": "code",
   "execution_count": 115,
   "metadata": {
    "collapsed": false
   },
   "outputs": [
    {
     "data": {
      "text/plain": [
       "3.3398374566187909e-72"
      ]
     },
     "execution_count": 115,
     "metadata": {},
     "output_type": "execute_result"
    }
   ],
   "source": [
    "zapper.Update(30)"
   ]
  },
  {
   "cell_type": "code",
   "execution_count": null,
   "metadata": {
    "collapsed": true
   },
   "outputs": [],
   "source": []
  }
 ],
 "metadata": {
  "kernelspec": {
   "display_name": "Python 3",
   "language": "python",
   "name": "python3"
  },
  "language_info": {
   "codemirror_mode": {
    "name": "ipython",
    "version": 3
   },
   "file_extension": ".py",
   "mimetype": "text/x-python",
   "name": "python",
   "nbconvert_exporter": "python",
   "pygments_lexer": "ipython3",
   "version": "3.4.4"
  }
 },
 "nbformat": 4,
 "nbformat_minor": 0
}
