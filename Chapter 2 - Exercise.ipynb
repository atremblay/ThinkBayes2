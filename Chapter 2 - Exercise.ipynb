{
 "cells": [
  {
   "cell_type": "markdown",
   "metadata": {},
   "source": [
    "# Exercise 2.1"
   ]
  },
  {
   "cell_type": "markdown",
   "metadata": {},
   "source": [
    "In The Bayesian framework I said that the solution to the cookie problem generalizes to the case where we draw multiple cookies with replacement.\n",
    "\n",
    "But in the more likely scenario where we eat the cookies we draw, the likelihood of each draw depends on the previous draws.\n",
    "\n",
    "Modify the solution in this chapter to handle selection without replacement. Hint: add instance variables to Cookie to represent the hypothetical state of the bowls, and modify Likelihood accordingly. You might want to define a Bowl object."
   ]
  },
  {
   "cell_type": "markdown",
   "metadata": {},
   "source": [
    "- Bowl 1 has 30 vanilla cookies and 10 chocolate cookies\n",
    "- Bowl 2 has 20 vanilla cookies and 20 chocolate cookies"
   ]
  },
  {
   "cell_type": "markdown",
   "metadata": {},
   "source": [
    "### Theory"
   ]
  },
  {
   "cell_type": "markdown",
   "metadata": {},
   "source": [
    "Probability of picking at random a cookie is $\\frac{50}{80}=\\frac{5}{8}$"
   ]
  },
  {
   "cell_type": "markdown",
   "metadata": {},
   "source": [
    "We can check this with the law of total probabilities. Either bowl can be picked with 50% chance.\n",
    "\n",
    "$P(V)=\\sum_i{P(V|B_i)P(B_i)} = P(V|B_1)P(B_1) + P(V|B_2)P(B_2) = \\frac{30}{40}\\frac{1}{2}+\\frac{20}{40}\\frac{1}{2}=\\frac{30+20}{40+40}$\n",
    "\n",
    "Where V denotes a vanilla cookie and $B_i$ is the bowl"
   ]
  },
  {
   "cell_type": "markdown",
   "metadata": {},
   "source": [
    "From the problem statement, what is the probability that a vanilla cookie comes from bowl 1\n",
    "\n",
    "$P(B_1|V)=\\frac{P(V|B_1)P(B_1)}{P(V)} = \\frac{P(V|B_1)P(B_1)}{\\sum_i{P(V|B_i)P(B_i)}} = \\frac{(3/4)(1/2)}{(5/8)}=\\frac{3}{5}$\n",
    "\n",
    "and bowl 2\n",
    "\n",
    "$P(B_2|V)=\\frac{P(V|B_2)P(B_2)}{P(V)} = \\frac{P(V|B_2)P(B_2)}{\\sum_i{P(V|B_i)P(B_i)}} =\\frac{(1/2)(1/2)}{(5/8)}=\\frac{2}{5}$"
   ]
  },
  {
   "cell_type": "markdown",
   "metadata": {},
   "source": [
    "For the problem at hand, we first pick a bowl at random, 50% each, pick at random a vanilla cookie, eat it and pick another vanilla cookie at random from the same bowl. What is the probability that both cookies come from bowl 1."
   ]
  },
  {
   "cell_type": "markdown",
   "metadata": {},
   "source": [
    "$P(B_1|V_1,V_2)=\\frac{P(B_1, V_1, V_2)}{P(V_1, V_2)}$"
   ]
  },
  {
   "cell_type": "markdown",
   "metadata": {},
   "source": [
    "$P(B_1, V_1, V_2)=P(V_2|B_1,V_1)P(B_1,V_1)=P(V_2|B_1,V_1)P(B_1|V_1)P(V_1)$"
   ]
  },
  {
   "cell_type": "markdown",
   "metadata": {},
   "source": [
    "Now for the denominator it looks like we need to do a fair bit of calculations but that's not so bad. We either picked bowl 1 or 2, so we just have to calculate the same kind of probability as above but for both bowl.\n",
    "\n",
    "$P(V_1,V_2)=\\sum_{i \\in {1,2}}{P(B_i,V_1,V_2)}=\\sum_{i \\in {1,2}}{P(V_2|B_i,V_1)P(B_i|V_1)P(V_1)}$\n",
    "\n",
    "$P(B_1|V_1,V_2)=\\frac{P(V_2|B_1,V_1)P(B_1|V_1)P(V_1)}{\\sum_{i \\in {1,2}}{P(V_2|B_i,V_1)P(B_i|V_1)P(V_1)}}=\n",
    "\\frac{P(V_2|B_1,V_1)P(B_1|V_1)}{\\sum_{i \\in {1,2}}{P(V_2|B_i,V_1)P(B_i|V_1)}} = \n",
    "\\frac{\\frac{29}{39}\\frac{3}{5}}{\\frac{29}{39}\\frac{3}{5}+\\frac{19}{39}\\frac{2}{5}}=\\frac{87}{125}$\n",
    "\n",
    "$P(B_2|V_1,V_2)=\\frac{38}{125}$"
   ]
  },
  {
   "cell_type": "markdown",
   "metadata": {},
   "source": [
    "### Practice"
   ]
  },
  {
   "cell_type": "markdown",
   "metadata": {},
   "source": [
    "That's all fun and done with the theory. Let's put that in practice. We just need to keep track of the cookies that we ate."
   ]
  },
  {
   "cell_type": "code",
   "execution_count": 13,
   "metadata": {
    "collapsed": true
   },
   "outputs": [],
   "source": [
    "class Bowl(object):\n",
    "    def __init__(self, **mix):\n",
    "        self.mix = mix\n",
    "        \n",
    "    def update(self, data):\n",
    "        self.mix[data] -= 1\n",
    "        \n",
    "    def prob(self, data):\n",
    "        return float(self.mix[data])/sum(self.mix.values())"
   ]
  },
  {
   "cell_type": "code",
   "execution_count": 24,
   "metadata": {
    "collapsed": false
   },
   "outputs": [],
   "source": [
    "# %load code/cookie2.py\n",
    "\"\"\"\n",
    "This code was originally created by Allen B. Downey \n",
    "for \"Think Bayes\" and subsequently modified by me \n",
    "for the purpose of this exercise.\n",
    "\"\"\"\n",
    "\n",
    "from code.thinkbayes import Pmf\n",
    "\n",
    "class Cookie(Pmf):\n",
    "    \"\"\"A map from string bowl ID to probablity.\"\"\"\n",
    "\n",
    "    def __init__(self, hypos):\n",
    "        \"\"\"Initialize self.\n",
    "\n",
    "        hypos: sequence of string bowl IDs\n",
    "        \"\"\"\n",
    "        Pmf.__init__(self)\n",
    "        self.mixes = {}\n",
    "        for i, hypo in enumerate(hypos):\n",
    "            key = \"Bowl {}\".format(i+1)\n",
    "            self.mixes[key] = hypo\n",
    "            self.Set(key, 1)\n",
    "        self.Normalize()\n",
    "\n",
    "    def Update(self, data):\n",
    "        \"\"\"Updates the PMF with new data.\n",
    "\n",
    "        data: string cookie type\n",
    "        \"\"\"\n",
    "        for hypo in self.Values():\n",
    "            like = self.Likelihood(data, hypo)\n",
    "            self.Mult(hypo, like)\n",
    "            self.mixes[hypo].update(data)\n",
    "        self.Normalize()\n",
    "\n",
    "    def Likelihood(self, data, hypo):\n",
    "        \"\"\"The likelihood of the data under the hypothesis.\n",
    "\n",
    "        data: string cookie type\n",
    "        hypo: string bowl ID\n",
    "        \"\"\"\n",
    "        bowl = self.mixes[hypo]\n",
    "        like = bowl.prob(data)\n",
    "        return like\n",
    "\n"
   ]
  },
  {
   "cell_type": "code",
   "execution_count": 37,
   "metadata": {
    "collapsed": false
   },
   "outputs": [],
   "source": [
    "hypos = [\n",
    "    Bowl(**dict(vanilla=30, chocolate=10)), \n",
    "    Bowl(**dict(vanilla=20, chocolate=20))\n",
    "]\n",
    "pmf = Cookie(hypos)"
   ]
  },
  {
   "cell_type": "code",
   "execution_count": 38,
   "metadata": {
    "collapsed": true
   },
   "outputs": [],
   "source": [
    "pmf.Update('vanilla')"
   ]
  },
  {
   "cell_type": "code",
   "execution_count": 39,
   "metadata": {
    "collapsed": false
   },
   "outputs": [
    {
     "name": "stdout",
     "output_type": "stream",
     "text": [
      "Bowl 2 40.00%\n",
      "Bowl 1 60.00%\n"
     ]
    }
   ],
   "source": [
    "for hypo, prob in pmf.Items():\n",
    "    print hypo, \"{:.2f}%\".format(prob*100)"
   ]
  },
  {
   "cell_type": "code",
   "execution_count": 40,
   "metadata": {
    "collapsed": true
   },
   "outputs": [],
   "source": [
    "pmf.Update('vanilla')"
   ]
  },
  {
   "cell_type": "code",
   "execution_count": 42,
   "metadata": {
    "collapsed": false
   },
   "outputs": [
    {
     "name": "stdout",
     "output_type": "stream",
     "text": [
      "Bowl 2 30.40%\n",
      "Bowl 1 69.60%\n"
     ]
    }
   ],
   "source": [
    "for hypo, prob in pmf.Items():\n",
    "    print hypo, \"{:.2f}%\".format(prob*100)"
   ]
  },
  {
   "cell_type": "markdown",
   "metadata": {},
   "source": [
    "This bit of code is the practical version of the theory above. Doing both is an interesting exercise in solidifying your comprehension of the basic Bayes manipulations."
   ]
  },
  {
   "cell_type": "markdown",
   "metadata": {},
   "source": [
    "----"
   ]
  },
  {
   "cell_type": "markdown",
   "metadata": {},
   "source": [
    "## Some more fun"
   ]
  },
  {
   "cell_type": "markdown",
   "metadata": {},
   "source": [
    "While I'm at it, why not ask a different question but with the same setup.\n",
    "1. Pick a bowl at random without identifying it\n",
    "2. Choose a cookie at random from that bowl, observe what kind and eat it\n",
    "3. Choose a bowl at random without identifying it\n",
    "4. Choose a cookie at random from that second bowl\n",
    "\n",
    "What is the probability that the second cookie will be vanilla? You never know from which bowl the cookies came. So I am looking for $P(V_2|V_1)$."
   ]
  },
  {
   "cell_type": "markdown",
   "metadata": {},
   "source": [
    "Let's do it with the law of total probabilities here as well\n",
    "\n",
    "$P(V_2|V_1)=\\frac{P(V_2V_1)}{P(V_1)}$"
   ]
  },
  {
   "cell_type": "markdown",
   "metadata": {},
   "source": [
    "Now for the numerator it requires quite a bit of calculations. The idea is to calculate the probability that both cookies are vanilla wether they come from bowl 1 or bowl 2 independently. That mean that the first cookie can come from either the first or the second bowl and same thing for the second cookie. We have to consider all the combinations and that, my friend, is a pain.\n",
    "\n",
    "I'll denote the cookie 1 coming from bowl $k$ by $B_{V_1;k}$ and similarly for cookie 2. So here we go\n",
    "\n",
    "$P(V_1,V_2)=\\sum_j{\\sum_i{P(V_1,V_2,B_{V_1;i},B_{V_2;j})}}=\\sum_j{\\sum_i{P(V_2|V_1,B_{V_1;i},B_{V_2;j})P(B_{V_1;i}|V_1,B_{V_2;j})P(V_1|B_{V_2;j})P(B_{V_2;j})}}$"
   ]
  },
  {
   "cell_type": "markdown",
   "metadata": {},
   "source": [
    "That is the full extension of the chain rule, but some of it is independent. For example $P(B_{V_1;i}|V_1,B_{V_2;j})$, knowing that the second vanilla cookie comes from the bowl $j$ is not providing any information regarding the probability of the first bowl being bowl $i$. So that leaves you with $P(B_{V_1;i}|V_1)$.\n",
    "\n",
    "Same kind of logic for $P(V_1|B_{V_2;j})$"
   ]
  },
  {
   "cell_type": "markdown",
   "metadata": {},
   "source": [
    "Reduced to its simplest form\n",
    "$\\sum_j{\\sum_i{P(V_2|V_1,B_{V_1;i},B_{V_2;j})P(B_{V_1;i}|V_1)P(V_1)P(B_{V_2;j})}}$"
   ]
  },
  {
   "cell_type": "markdown",
   "metadata": {},
   "source": [
    "$P(V_2|V_1)=\\frac{P(V_2V_1)}{P(V_1)}=\\frac{\\sum_j{\\sum_i{P(V_2|V_1,B_{V_1;i},B_{V_2;j})P(B_{V_1;i}|V_1)P(V_1)P(B_{V_2;j})}}}{P(V_1)}\n",
    "=\\sum_j{\\sum_i{P(V_2|V_1,B_{V_1;i},B_{V_2;j})P(B_{V_1;i}|V_1)P(B_{V_2;j})}}$"
   ]
  },
  {
   "cell_type": "markdown",
   "metadata": {},
   "source": [
    "$\\frac{1}{2}\\left(\\frac{3}{5}\\left(\\frac{29}{39}+\\frac{20}{40}\\right)+\\frac{2}{5}\\left(\\frac{30}{40}+\\frac{19}{39}\\right)\\right) $"
   ]
  },
  {
   "cell_type": "code",
   "execution_count": 45,
   "metadata": {
    "collapsed": false
   },
   "outputs": [
    {
     "data": {
      "text/plain": [
       "0.6205128205128205"
      ]
     },
     "execution_count": 45,
     "metadata": {},
     "output_type": "execute_result"
    }
   ],
   "source": [
    "0.5*(3./5*(29./39+20./40) + 2./5*(30./40+19./39))"
   ]
  }
 ],
 "metadata": {
  "kernelspec": {
   "display_name": "Python 3",
   "language": "python",
   "name": "python3"
  },
  "language_info": {
   "codemirror_mode": {
    "name": "ipython",
    "version": 3
   },
   "file_extension": ".py",
   "mimetype": "text/x-python",
   "name": "python",
   "nbconvert_exporter": "python",
   "pygments_lexer": "ipython3",
   "version": "3.4.4"
  }
 },
 "nbformat": 4,
 "nbformat_minor": 0
}
