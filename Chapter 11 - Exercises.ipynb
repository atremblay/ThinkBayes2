{
 "cells": [
  {
   "cell_type": "markdown",
   "metadata": {},
   "source": [
    "# Exercise 11.1 "
   ]
  },
  {
   "cell_type": "markdown",
   "metadata": {},
   "source": [
    "Some people believe in the existence of extra-sensory perception (ESP); for example, the ability of some people to guess the value of an unseen playing card with probability better than chance.\n",
    "\n",
    "What is your prior degree of belief in this kind of ESP? Do you think it is as likely to exist as not? Or are you more skeptical about it? Write down your prior odds.\n",
    "\n",
    "Now compute the strength of the evidence it would take to convince you that ESP is at least 50% likely to exist. What Bayes factor would be needed to make you 90% sure that ESP exists?"
   ]
  },
  {
   "cell_type": "markdown",
   "metadata": {},
   "source": [
    "### Theory"
   ]
  },
  {
   "cell_type": "markdown",
   "metadata": {},
   "source": [
    "$$o(A|D)=o(A)\\frac{P(D|A)}{P(D|B)}$$"
   ]
  },
  {
   "cell_type": "markdown",
   "metadata": {},
   "source": [
    "To answer that I have to go back to chapter 5 - Odds and Addends. Let's say my own prior that ESP exists is the **odds against** 1000000:1. I want to get to 1:1. The likelihood ratio would need to be $(1:1)=(1:1000000) * x$ so $x=1000000:1$.\n",
    "\n",
    "Basically the odds in favor needs to be as strong as my prior beliefs."
   ]
  },
  {
   "cell_type": "markdown",
   "metadata": {},
   "source": [
    "90% sure that ESP exists means that the odds are 9:1. Same idea, what should be the Bayes factor such that **1:1000000** times **factor** equals **9:1**? How about **9000000:1**?"
   ]
  },
  {
   "cell_type": "markdown",
   "metadata": {},
   "source": [
    "**1:1000000** \\* **9000000:1** = **9:1**"
   ]
  },
  {
   "cell_type": "markdown",
   "metadata": {},
   "source": [
    "So the probability under the hypothesis that ESP exists has to be 9 million times higher than under the hypothesis that it does not exists."
   ]
  },
  {
   "cell_type": "markdown",
   "metadata": {},
   "source": [
    "MUST READ this https://www.countbayesie.com/blog/2016/3/16/bayesian-reasoning-in-the-twilight-zone"
   ]
  },
  {
   "cell_type": "markdown",
   "metadata": {},
   "source": [
    "# Exercise 11.2"
   ]
  },
  {
   "cell_type": "markdown",
   "metadata": {},
   "source": [
    "Suppose that your answer to the previous question is 1000; that is, evidence with Bayes factor 1000 in favor of ESP would be sufficient to change your mind.\n",
    "\n",
    "Now suppose that you read a paper in a respectable peer-reviewed scientific journal that presents evidence with Bayes factor 1000 in favor of ESP. Would that change your mind?\n",
    "\n",
    "If not, how do you resolve the apparent contradiction? You might find it helpful to read about David Hume’s article, “Of Miracles,” at http://en.wikipedia.org/wiki/Of_Miracles."
   ]
  },
  {
   "cell_type": "markdown",
   "metadata": {},
   "source": [
    "> As the evidence for a miracle is always limited, as miracles are single events, occurring at particular times and places, the evidence for the miracle will always be outweighed by the evidence against — the evidence for the law of which the miracle is supposed to be a transgression.\n",
    "\n",
    "> There are, however, two ways in which this argument might be neutralised. First, if the number of witnesses of the miracle be greater than the number of witnesses of the operation of the law, and secondly, if a witness be 100% reliable (for then no amount of contrary testimony will be enough to outweigh that person's account)."
   ]
  },
  {
   "cell_type": "markdown",
   "metadata": {},
   "source": [
    "Do I believe that magicians are really doing magic? No. They don't have the credibility to claim they are doing magic. In their case it's because we know they are only tricks and illusions. \n",
    "\n",
    "Even if evidence suggest something contrary to your prior beliefs, you still have to trust the evidence. Without trust, no amount of evidence will convince you to the alternative hypothesis."
   ]
  },
  {
   "cell_type": "code",
   "execution_count": null,
   "metadata": {
    "collapsed": true
   },
   "outputs": [],
   "source": []
  }
 ],
 "metadata": {
  "kernelspec": {
   "display_name": "Python 3",
   "language": "python",
   "name": "python3"
  },
  "language_info": {
   "codemirror_mode": {
    "name": "ipython",
    "version": 3
   },
   "file_extension": ".py",
   "mimetype": "text/x-python",
   "name": "python",
   "nbconvert_exporter": "python",
   "pygments_lexer": "ipython3",
   "version": "3.4.4"
  }
 },
 "nbformat": 4,
 "nbformat_minor": 0
}
