{
 "cells": [
  {
   "cell_type": "markdown",
   "metadata": {},
   "source": [
    "# Exercise 3.1"
   ]
  },
  {
   "cell_type": "markdown",
   "metadata": {},
   "source": [
    "To write a likelihood function for the locomotive problem, we had to answer this question: “If the railroad has N locomotives, what is the probability that we see number 60?”\n",
    "\n",
    "The answer depends on what sampling process we use when we observe the locomotive. In this chapter, I resolved the ambiguity by specifying that there is only one train-operating company (or only one that we care about).\n",
    "\n",
    "But suppose instead that there are many companies with different numbers of trains. And suppose that you are equally likely to see any train operated by any company. In that case, the likelihood function is different because you are more likely to see a train operated by a large company.\n",
    "\n",
    "As an exercise, implement the likelihood function for this variation of the locomotive problem, and compare the results."
   ]
  },
  {
   "cell_type": "markdown",
   "metadata": {},
   "source": [
    "----"
   ]
  },
  {
   "cell_type": "markdown",
   "metadata": {},
   "source": [
    "Initially we had to estimate the number of locomotives the railroad had ($N$) based on the fact that we observed one with the number 60 ($n=60$)\n",
    "$$P(N|n=60)=\\frac{P(n=60|N)P(N)}{P(n=60)}$$\n",
    "\n",
    "The entire fleet was composed of only one company. So there were locomotives numbered 1 to $N$. But now we have many company, so $N$ is the sum of all companies. Each company $C_i$ has $N_i$ locomotives. We get a fleet composed of the numbers $1,\\ldots,N_1,1,\\ldots,N_2,1,\\ldots,N_m$.\n",
    "\n",
    "Since every company has at least 1 locomotive, there are $m$ locomotives numbered 1. For the rest it depends on the number of locomotives each company has."
   ]
  },
  {
   "cell_type": "markdown",
   "metadata": {},
   "source": [
    "Let's sum up a few details that we have\n",
    "\n",
    "- We have M companies labeled $C_i$ and each of them has $N_i$ locomotives.\n",
    "- Each train, no matter the company, has the same probability of being observed, $\\frac{1}{N}$ where $N=\\sum_{j=1}^m{N_j}$. \n",
    "- Once we know the company, each locomotive has a probability of $\\frac{1}{N_i}$ of being observed.\n",
    "- Each company has a probability of $\\frac{N_i}{N_{tot}}$ of being picked"
   ]
  },
  {
   "cell_type": "markdown",
   "metadata": {},
   "source": [
    "We are tasked with finding the new likelihood $P(n=60|N)$, or equivalently $P(n=60|N_1,\\ldots,N_m)$ because there are many company. For example, the probability of observing a locomotive numbered 1 if we have $m$ companies is $\\frac{m}{N}$"
   ]
  },
  {
   "cell_type": "markdown",
   "metadata": {},
   "source": [
    "### Theory"
   ]
  },
  {
   "cell_type": "markdown",
   "metadata": {},
   "source": [
    "What is the probability that we observe a locomotive with the number n, $P(N=n|C_m)$?\n",
    "\n",
    "Where $C_m$ is the distribution of companies and their respective sizes.\n",
    "\n",
    "The problem is very similar to finding the probability of picking a vanilla cookie in chapter 2. We used the law of total probabilities then, we will use it again here."
   ]
  },
  {
   "cell_type": "markdown",
   "metadata": {},
   "source": [
    "$P(N=n|C_m)=\\sum_{i=1}^m{P(N=n,C_i)}=\\sum_{i=1}^m{P(N=n|C_i)P(C_i)}=\n",
    "\\sum_{i=1}^m{\\frac{I_i}{N_i}\\frac{N_i}{N_{tot}}}=\n",
    "\\frac{\\sum_{i=1}^m{I_i}}{N_{tot}}$\n",
    "\n",
    "Where\n",
    "\n",
    "$I_i=\\begin{cases}\n",
    "    0,& n < N_i\\\\\n",
    "    1,              & \\text{otherwise}\n",
    "\\end{cases}\n",
    "$"
   ]
  },
  {
   "cell_type": "markdown",
   "metadata": {},
   "source": [
    "In other words, seeing a locomotive with the number $n$ is only as likely as there are number of locomotives with that number across all companies."
   ]
  },
  {
   "cell_type": "markdown",
   "metadata": {},
   "source": [
    "### Practice"
   ]
  },
  {
   "cell_type": "code",
   "execution_count": 2,
   "metadata": {
    "collapsed": true
   },
   "outputs": [],
   "source": [
    "from code.train3 import Train2"
   ]
  },
  {
   "cell_type": "code",
   "execution_count": null,
   "metadata": {
    "collapsed": true
   },
   "outputs": [],
   "source": [
    "class Train3(Train2):\n",
    "    \"\"\"\n",
    "    Keep the same prior as Train2 which initializes \n",
    "    the hypotheses with a power law distribution\n",
    "    \"\"\"\n",
    "    \n",
    "    def Likelihood(self, data, hypo):\n",
    "        \"\"\"\n",
    "        \n",
    "        \"\"\"\n",
    "        if hypo < data:\n",
    "            return 0\n",
    "        else:\n",
    "            return 1.0/hypo"
   ]
  },
  {
   "cell_type": "code",
   "execution_count": null,
   "metadata": {
    "collapsed": true
   },
   "outputs": [],
   "source": [
    "# %load code/train3.py\n",
    "\"\"\"This file contains code for use with \"Think Bayes\",\n",
    "by Allen B. Downey, available from greenteapress.com\n",
    "\n",
    "Copyright 2012 Allen B. Downey\n",
    "License: GNU GPLv3 http://www.gnu.org/licenses/gpl.html\n",
    "\"\"\"\n",
    "\n",
    "import thinkbayes\n",
    "import thinkplot\n",
    "\n",
    "from thinkbayes import Pmf, Percentile\n",
    "from dice import Dice\n",
    "\n",
    "\n",
    "class Train(Dice):\n",
    "    \"\"\"Represents hypotheses about how many trains the company has.\"\"\"\n",
    "\n",
    "\n",
    "class Train2(Dice):\n",
    "    \"\"\"Represents hypotheses about how many trains the company has.\"\"\"\n",
    "\n",
    "    def __init__(self, hypos, alpha=1.0):\n",
    "        \"\"\"Initializes the hypotheses with a power law distribution.\n",
    "\n",
    "        hypos: sequence of hypotheses\n",
    "        alpha: parameter of the power law prior\n",
    "        \"\"\"\n",
    "        Pmf.__init__(self)\n",
    "        for hypo in hypos:\n",
    "            self.Set(hypo, hypo**(-alpha))\n",
    "        self.Normalize()\n",
    "\n",
    "\n",
    "def MakePosterior(high, dataset, constructor):\n",
    "    \"\"\"Makes and updates a Suite.\n",
    "\n",
    "    high: upper bound on the range of hypotheses\n",
    "    dataset: observed data to use for the update\n",
    "    constructor: function that makes a new suite\n",
    "\n",
    "    Returns: posterior Suite\n",
    "    \"\"\"\n",
    "    hypos = xrange(1, high+1)\n",
    "    suite = constructor(hypos)\n",
    "    suite.name = str(high)\n",
    "\n",
    "    for data in dataset:\n",
    "        suite.Update(data)\n",
    "\n",
    "    return suite\n",
    "\n",
    "\n",
    "def ComparePriors():\n",
    "    \"\"\"Runs the analysis with two different priors and compares them.\"\"\"\n",
    "    dataset = [60]\n",
    "    high = 1000\n",
    "\n",
    "    thinkplot.Clf()\n",
    "    thinkplot.PrePlot(num=2)\n",
    "\n",
    "    constructors = [Train, Train2]\n",
    "    labels = ['uniform', 'power law']\n",
    "\n",
    "    for constructor, label in zip(constructors, labels):\n",
    "        suite = MakePosterior(high, dataset, constructor)\n",
    "        suite.name = label\n",
    "        thinkplot.Pmf(suite)\n",
    "\n",
    "    thinkplot.Save(root='train4',\n",
    "                xlabel='Number of trains',\n",
    "                ylabel='Probability')\n",
    "\n",
    "def main():\n",
    "    ComparePriors()\n",
    "\n",
    "    dataset = [30, 60, 90]\n",
    "\n",
    "    thinkplot.Clf()\n",
    "    thinkplot.PrePlot(num=3)\n",
    "\n",
    "    for high in [500, 1000, 2000]:\n",
    "        suite = MakePosterior(high, dataset, Train2)\n",
    "        print high, suite.Mean()\n",
    "\n",
    "    thinkplot.Save(root='train3',\n",
    "                   xlabel='Number of trains',\n",
    "                   ylabel='Probability')\n",
    "\n",
    "    interval = Percentile(suite, 5), Percentile(suite, 95)\n",
    "    print interval\n",
    "\n",
    "    cdf = thinkbayes.MakeCdfFromPmf(suite)\n",
    "    interval = cdf.Percentile(5), cdf.Percentile(95)\n",
    "    print interval\n",
    "\n",
    "\n",
    "if __name__ == '__main__':\n",
    "    main()\n"
   ]
  },
  {
   "cell_type": "code",
   "execution_count": null,
   "metadata": {
    "collapsed": true
   },
   "outputs": [],
   "source": []
  }
 ],
 "metadata": {
  "kernelspec": {
   "display_name": "Python 2",
   "language": "python",
   "name": "python2"
  },
  "language_info": {
   "codemirror_mode": {
    "name": "ipython",
    "version": 2
   },
   "file_extension": ".py",
   "mimetype": "text/x-python",
   "name": "python",
   "nbconvert_exporter": "python",
   "pygments_lexer": "ipython2",
   "version": "2.7.11"
  }
 },
 "nbformat": 4,
 "nbformat_minor": 0
}
