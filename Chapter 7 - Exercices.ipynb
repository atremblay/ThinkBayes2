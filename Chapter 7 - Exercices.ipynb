{
 "cells": [
  {
   "cell_type": "markdown",
   "metadata": {},
   "source": [
    "# Exercise 7.1"
   ]
  },
  {
   "cell_type": "markdown",
   "metadata": {},
   "source": [
    "If buses arrive at a bus stop every 20 minutes, and you arrive at the bus stop at a random time, your wait time until the bus arrives is uniformly distributed from 0 to 20 minutes.\n",
    "\n",
    "But in reality, there is variability in the time between buses. Suppose you are waiting for a bus, and you know the historical distribution of time between buses. Compute your distribution of wait times.\n",
    "\n",
    "*Hint*: Suppose that the time between buses is either 5 or 10 minutes with equal probability. What is the probability that you arrive during one of the 10 minute intervals?"
   ]
  },
  {
   "cell_type": "markdown",
   "metadata": {},
   "source": [
    "### Theory"
   ]
  },
  {
   "cell_type": "markdown",
   "metadata": {},
   "source": [
    "$P(wait)=\\sum{P(wait|interval_i)P(interval_i)}$\n",
    "\n",
    "This is what is refered to as a mixture of distribution. Every distribution has a probability of happening. Then you can compute the probability of every wait time."
   ]
  },
  {
   "cell_type": "markdown",
   "metadata": {},
   "source": [
    "This is different than the example given in chapter 8 where they calculate the average time between buses. It's either 5 or 10 minutes each with probability 50%. That gives an average time between buses of $5*0.5 + 10*0.5=7.5$. Here we want to calculate our own wait time."
   ]
  },
  {
   "cell_type": "markdown",
   "metadata": {},
   "source": [
    "### Practice"
   ]
  },
  {
   "cell_type": "code",
   "execution_count": 1,
   "metadata": {
    "collapsed": true
   },
   "outputs": [],
   "source": [
    "import sys\n",
    "import os\n",
    "sys.path.append(os.path.join(os.getcwd(), 'code'))"
   ]
  },
  {
   "cell_type": "code",
   "execution_count": 32,
   "metadata": {
    "collapsed": false
   },
   "outputs": [
    {
     "name": "stdout",
     "output_type": "stream",
     "text": [
      "Populating the interactive namespace from numpy and matplotlib\n"
     ]
    }
   ],
   "source": [
    "%pylab inline"
   ]
  },
  {
   "cell_type": "code",
   "execution_count": 31,
   "metadata": {
    "collapsed": true
   },
   "outputs": [],
   "source": [
    "from thinkbayes2 import MakeUniformPmf, MakeMixture, Pmf\n",
    "import matplotlib.pyplot as plt\n",
    "import seaborn as sns"
   ]
  },
  {
   "cell_type": "code",
   "execution_count": 12,
   "metadata": {
    "collapsed": true
   },
   "outputs": [],
   "source": [
    "u5 = MakeUniformPmf(0,5,6)\n",
    "u10 = MakeUniformPmf(0,10,11)"
   ]
  },
  {
   "cell_type": "code",
   "execution_count": 22,
   "metadata": {
    "collapsed": false
   },
   "outputs": [],
   "source": [
    "metapmf = Pmf()\n",
    "metapmf.Set(u5, 1)\n",
    "metapmf.Set(u10, 1)\n",
    "metapmf.Normalize()\n",
    "mix = MakeMixture(metapmf)"
   ]
  },
  {
   "cell_type": "code",
   "execution_count": 48,
   "metadata": {
    "collapsed": false
   },
   "outputs": [
    {
     "data": {
      "image/png": "[encoded data removed]",
      "text/plain": [
       "<matplotlib.figure.Figure at 0x111372550>"
      ]
     },
     "metadata": {},
     "output_type": "display_data"
    }
   ],
   "source": [
    "g = sns.barplot(x=list(range(11)), y=[mix.Prob(i) for i in range(11)], color='b')\n",
    "g = g.set_title(\"Distribution of wait time\")"
   ]
  },
  {
   "cell_type": "code",
   "execution_count": 53,
   "metadata": {
    "collapsed": false
   },
   "outputs": [
    {
     "name": "stdout",
     "output_type": "stream",
     "text": [
      "On average the wait time is 3.75 minutes for that distribution\n"
     ]
    }
   ],
   "source": [
    "print(\"On average the wait time is {} minutes for that distribution\".format(mix.Mean()))"
   ]
  },
  {
   "cell_type": "markdown",
   "metadata": {},
   "source": [
    "But if you were to arrive at the bus stop, what would be the perceived average wait time? You are more likely to arrive during a 10 minutes period."
   ]
  },
  {
   "cell_type": "code",
   "execution_count": 54,
   "metadata": {
    "collapsed": false
   },
   "outputs": [],
   "source": [
    "metapmf = Pmf()\n",
    "metapmf.Set(u5, 5)\n",
    "metapmf.Set(u10, 10)\n",
    "metapmf.Normalize()\n",
    "mix = MakeMixture(metapmf)"
   ]
  },
  {
   "cell_type": "code",
   "execution_count": 55,
   "metadata": {
    "collapsed": false
   },
   "outputs": [
    {
     "data": {
      "image/png": "[encoded data removed]",
      "text/plain": [
       "<matplotlib.figure.Figure at 0x110c625c0>"
      ]
     },
     "metadata": {},
     "output_type": "display_data"
    }
   ],
   "source": [
    "g = sns.barplot(x=list(range(11)), y=[mix.Prob(i) for i in range(11)], color='b')\n",
    "g = g.set_title(\"Distribution of wait time\")"
   ]
  },
  {
   "cell_type": "code",
   "execution_count": 57,
   "metadata": {
    "collapsed": false
   },
   "outputs": [
    {
     "name": "stdout",
     "output_type": "stream",
     "text": [
      "On average you will wait 4.17 minutes for that distribution at the bus station\n"
     ]
    }
   ],
   "source": [
    "print(\"On average you will wait {:.2f} minutes for that distribution at the bus station\".format(mix.Mean()))"
   ]
  },
  {
   "cell_type": "markdown",
   "metadata": {},
   "source": [
    "# Exercise 7.2"
   ]
  },
  {
   "cell_type": "markdown",
   "metadata": {},
   "source": [
    "Suppose that passengers arriving at the bus stop are well-modeled by a Poisson process with parameter λ. If you arrive at the stop and find 3 people waiting, what is your posterior distribution for the time since the last bus arrived."
   ]
  },
  {
   "cell_type": "markdown",
   "metadata": {},
   "source": [
    "### Theory"
   ]
  },
  {
   "cell_type": "markdown",
   "metadata": {},
   "source": [
    "- $t$ represents the time since last bus\n",
    "- $T$ is the time between two buses\n",
    "- $k$ represents the number of person already waiting\n",
    "- We are looking for $P(t|k=3)$\n",
    "- $\\lambda$ is the number of person arriving at the bus stop every minutes"
   ]
  },
  {
   "cell_type": "markdown",
   "metadata": {},
   "source": [
    "$P(t|k=3)=\\frac{P(k=3|t)P(t)}{P(k=3)}=\\frac{P(k=3|t)}{T \\cdot P(k=3)}$"
   ]
  },
  {
   "cell_type": "markdown",
   "metadata": {},
   "source": [
    "- $P(k=3|t) \\sim Poisson(t\\lambda)$ \n",
    "- $P(t) \\sim Uniform(T)$ with the discrete version of a uniform\n",
    "- $P(k=3)=\\sum_{i=1}^T{P(k=3|t=i)P(t=i)}=\\frac{1}{T}\\sum_{i=1}^T{P(k=3|t=i)}$"
   ]
  },
  {
   "cell_type": "markdown",
   "metadata": {},
   "source": [
    "### Practice"
   ]
  },
  {
   "cell_type": "code",
   "execution_count": 163,
   "metadata": {
    "collapsed": true
   },
   "outputs": [],
   "source": [
    "from thinkbayes2 import EvalPoissonPmf, Suite, MakePoissonPmf"
   ]
  },
  {
   "cell_type": "code",
   "execution_count": 81,
   "metadata": {
    "collapsed": true
   },
   "outputs": [],
   "source": [
    "class TimeSince(Suite):\n",
    "    def __init__(self, values, lam):\n",
    "        super(TimeSince, self).__init__(values)\n",
    "        self.lam = lam\n",
    "        \n",
    "    def Likelihood(self, data, hypo):\n",
    "        t = hypo\n",
    "        k = data\n",
    "        like = EvalPoissonPmf(self.lam*t, k)\n",
    "        return like"
   ]
  },
  {
   "cell_type": "code",
   "execution_count": 126,
   "metadata": {
    "collapsed": false
   },
   "outputs": [
    {
     "data": {
      "text/plain": [
       "0.048850989888619953"
      ]
     },
     "execution_count": 126,
     "metadata": {},
     "output_type": "execute_result"
    }
   ],
   "source": [
    "xs = np.linspace(0,20,100) # use 100 time points just to get a smoother curve below\n",
    "ts = TimeSince(xs, 1) # suppose lambda = 1, i.e. passenger arrive at the rate of 1 per minute\n",
    "ts.Update(3)"
   ]
  },
  {
   "cell_type": "code",
   "execution_count": 127,
   "metadata": {
    "collapsed": false
   },
   "outputs": [
    {
     "data": {
      "image/png": "[encoded data removed]",
      "text/plain": [
       "<matplotlib.figure.Figure at 0x1129b77f0>"
      ]
     },
     "metadata": {},
     "output_type": "display_data"
    }
   ],
   "source": [
    "y = np.array([ts.Prob(t) for t in xs])\n",
    "plt.plot(xs, y)\n",
    "plt.vlines(xs[np.argmax(y)], y.min(), y.max(), linestyles='--')\n",
    "_=plt.title(\"The most likely elapsed time since the last bus is {:.2f} minutes\".format(xs[np.argmax(y)]))"
   ]
  },
  {
   "cell_type": "markdown",
   "metadata": {},
   "source": [
    "# Exercise 7.3 "
   ]
  },
  {
   "cell_type": "markdown",
   "metadata": {},
   "source": [
    "Suppose that you are an ecologist sampling the insect population in a new environment. You deploy 100 traps in a test area and come back the next day to check on them. You find that 37 traps have been triggered, trapping an insect inside. Once a trap triggers, it cannot trap another insect until it has been reset.\n",
    "\n",
    "If you reset the traps and come back in two days, how many traps do you expect to find triggered? Compute a posterior predictive distribution for the number of traps."
   ]
  },
  {
   "cell_type": "markdown",
   "metadata": {},
   "source": [
    "### Theory"
   ]
  },
  {
   "cell_type": "markdown",
   "metadata": {},
   "source": [
    "This is a problem that can be solved with a Poisson distribution. Thing is, we don't know the average trap rate. We only know that after one day we got 37.\n",
    "\n",
    "We have to make a few simplifications otherwise the problem becomes way more complicated. Taken from the Wikipedia page for [Poisson distribution](https://en.wikipedia.org/wiki/Poisson_distribution#Assumptions:_When_is_the_Poisson_distribution_an_appropriate_model.3F):\n",
    "- The rate at which events occur is constant. The rate cannot be higher in some intervals and lower in other intervals.\n",
    "- Two events cannot occur at exactly the same instant.\n",
    "\n",
    "Both are false. As we trap insects, we have less and less active traps. So the rate is getting lower as time goes by. Also, two traps can be set off at the same time. So for now, if not forever, we will assume that the trap rate is constant over time and that two traps cannot be set off at the same time."
   ]
  },
  {
   "cell_type": "markdown",
   "metadata": {},
   "source": [
    "- $k$ is the number of insects traped after 2 days\n",
    "- $37$ will be the information that we got 37 after 1 day\n",
    "- $\\lambda$ is the trap rate for 1 day"
   ]
  },
  {
   "cell_type": "markdown",
   "metadata": {},
   "source": [
    "$P(k|37)=\\frac{P(k,37)}{P(37)}=\\frac{\\sum_{\\Lambda}{P(k,37,\\lambda)}}{P(37)}=\\frac{\\sum_{\\Lambda}{P(k|37,\\lambda)P(\\lambda|37)P(37)}}{P(37)}=\\sum_{\\Lambda}{P(k|\\lambda)P(\\lambda|37)}$"
   ]
  },
  {
   "cell_type": "markdown",
   "metadata": {},
   "source": [
    "$P(\\lambda|37)$ is the distribution of possible trap rate. That is our posterior knowledge about $\\lambda$, which is a lot better than assuming a uniform distribution.\n",
    "\n",
    "So essentially we have a mixture of distribution for $k$ based on the distribution of $\\lambda$"
   ]
  },
  {
   "cell_type": "markdown",
   "metadata": {},
   "source": [
    "### Practice"
   ]
  },
  {
   "cell_type": "markdown",
   "metadata": {},
   "source": [
    "Again this is a Poisson distribution. We don't know the rate of traps triggered, but we can get a posterior distribution based on the fact that we got 37 in one day. $P(\\lambda|37)$"
   ]
  },
  {
   "cell_type": "code",
   "execution_count": 207,
   "metadata": {
    "collapsed": true
   },
   "outputs": [],
   "source": [
    "class Trap(Suite):\n",
    "    def __init__(self, values):\n",
    "        super(Trap, self).__init__(values)\n",
    "        \n",
    "    def Likelihood(self, data, hypo):\n",
    "        lam = hypo\n",
    "        k = data\n",
    "        like = EvalPoissonPmf(k, lam)\n",
    "        return like"
   ]
  },
  {
   "cell_type": "code",
   "execution_count": 208,
   "metadata": {
    "collapsed": true
   },
   "outputs": [],
   "source": [
    "lambdas = range(1,76) # Suppose we can trap up to 75 per day"
   ]
  },
  {
   "cell_type": "code",
   "execution_count": 210,
   "metadata": {
    "collapsed": false
   },
   "outputs": [
    {
     "name": "stdout",
     "output_type": "stream",
     "text": [
      "Mean: 38.00, Std: 6.16\n"
     ]
    }
   ],
   "source": [
    "trap = Trap(lambdas)\n",
    "trap.Update(37)\n",
    "print(\"Mean: {:.2f}, Std: {:.2f}\".format(trap.Mean(), trap.Std()))"
   ]
  },
  {
   "cell_type": "code",
   "execution_count": 199,
   "metadata": {
    "collapsed": false
   },
   "outputs": [
    {
     "data": {
      "image/png": "[encoded data removed]",
      "text/plain": [
       "<matplotlib.figure.Figure at 0x1123ae7f0>"
      ]
     },
     "metadata": {},
     "output_type": "display_data"
    }
   ],
   "source": [
    "y = np.array([trap.Prob(lam) for lam in lambdas])\n",
    "plt.plot(lambdas, y)\n",
    "_=plt.title(\"Distribution of possible lambdas\")"
   ]
  },
  {
   "cell_type": "markdown",
   "metadata": {},
   "source": [
    "And here comes the mixture"
   ]
  },
  {
   "cell_type": "code",
   "execution_count": 201,
   "metadata": {
    "collapsed": true
   },
   "outputs": [],
   "source": [
    "def PosteriorK(suite, high=100):     \n",
    "    metapmf = Pmf()\n",
    "    for lam, prob in suite.Items():\n",
    "        poisson = MakePoissonPmf(2*lam, high)\n",
    "        metapmf.Set(poisson, prob)\n",
    "    return MakeMixture(metapmf)"
   ]
  },
  {
   "cell_type": "code",
   "execution_count": 202,
   "metadata": {
    "collapsed": false
   },
   "outputs": [],
   "source": [
    "post = PosteriorK(trap, 100)"
   ]
  },
  {
   "cell_type": "code",
   "execution_count": 203,
   "metadata": {
    "collapsed": false
   },
   "outputs": [
    {
     "data": {
      "image/png": "[encoded data removed]",
      "text/plain": [
       "<matplotlib.figure.Figure at 0x1129e1f28>"
      ]
     },
     "metadata": {},
     "output_type": "display_data"
    }
   ],
   "source": [
    "K = np.arange(0,100)\n",
    "y = np.array([post.Prob(k) for k in K])\n",
    "plt.plot(K, y)\n",
    "_=plt.title(\"Distribution of possible traps set off after 2 days\")"
   ]
  },
  {
   "cell_type": "code",
   "execution_count": 211,
   "metadata": {
    "collapsed": false
   },
   "outputs": [
    {
     "name": "stdout",
     "output_type": "stream",
     "text": [
      "Mean: 74.91, Std: 13.28\n"
     ]
    }
   ],
   "source": [
    "print(\"Mean: {:.2f}, Std: {:.2f}\".format(post.Mean(), post.Std()))"
   ]
  },
  {
   "cell_type": "markdown",
   "metadata": {},
   "source": [
    "# Exercise 7.4"
   ]
  },
  {
   "cell_type": "markdown",
   "metadata": {},
   "source": [
    "Suppose you are the manager of an apartment building with 100 light bulbs in common areas. It is your responsibility to replace light bulbs when they break.\n",
    "\n",
    "On January 1, all 100 bulbs are working. When you inspect them on February 1, you find 3 light bulbs out. If you come back on April 1, how many light bulbs do you expect to find broken?\n",
    "\n",
    "In the previous exercise, you could reasonably assume that an event is equally likely at any time. For light bulbs, the likelihood of failure depends on the age of the bulb. Specifically, old bulbs have an increasing failure rate due to evaporation of the filament.\n",
    "\n",
    "This problem is more open-ended than some; you will have to make modeling decisions. You might want to read about the Weibull distribution (http://en.wikipedia.org/wiki/Weibull_distribution). Or you might want to look around for information about light bulb survival curves."
   ]
  },
  {
   "cell_type": "markdown",
   "metadata": {},
   "source": [
    "### Theory"
   ]
  },
  {
   "cell_type": "markdown",
   "metadata": {},
   "source": [
    "Before we dig into this problem, I will generalize the idea above with unspecified distribution parameters with $\\theta \\in \\Theta$ and observed data."
   ]
  },
  {
   "cell_type": "markdown",
   "metadata": {},
   "source": [
    "$P(T|data)=\\frac{P(T,data)}{P(data)}=\\frac{\\sum_{\\Theta}{P(T,data,\\theta)}}{P(data)}=\\frac{\\sum_{\\Theta}{P(T|data,\\theta)P(\\theta|data)P(data)}}{P(data)}=\\sum_{\\Theta}{P(T|\\theta)P(\\theta|data)}$\n",
    "\n",
    "And\n",
    "\n",
    "$P(\\theta|data)=\\frac{P(data|\\theta)P(\\theta)}{P(data)}=\\frac{P(data|\\theta)P(\\theta)}{\\sum_{\\theta \\in \\Theta}{P(data| \\theta)P(\\theta)}}$"
   ]
  },
  {
   "cell_type": "markdown",
   "metadata": {},
   "source": [
    "The problem is similar to 7.3 except that we cannot use a Poisson distribution for when lights go out. We are steared towards the Weibull distribution. That distribution can be used to represent an aging process. $\\lambda$ and $k$ parametrarize this function.\n",
    "\n",
    "$$\\frac{k}{\\lambda}\\left(\\frac{x}{\\lambda}\\right)^{k-1}e^{-(x/\\lambda)^k},\\ \\lambda\\ and\\ k \\in (0,+\\infty)$$\n",
    "\n",
    "If the quantity X is a \"time-to-failure\", the Weibull distribution gives a distribution for which the failure rate is proportional to a power of time. The shape parameter, k, is that power plus one, and so this parameter can be interpreted directly as follows:\n",
    "\n",
    "A value of k > 1 indicates that the failure rate increases with time. This happens if there is an \"aging\" process, or parts that are more likely to fail as time goes on.\n",
    "\n",
    "Similar notation to the previous problem as well."
   ]
  },
  {
   "cell_type": "markdown",
   "metadata": {},
   "source": [
    "- $x$ is the number of lights that will go out after another 2 month\n",
    "- $3$ will be the information that there were 3 lights out after the first month\n",
    "- $\\lambda$ and $k$ are the parameter for the Weibull"
   ]
  },
  {
   "cell_type": "markdown",
   "metadata": {},
   "source": [
    "$P(x|3)=\\frac{P(x,3)}{P(3)}=\\frac{\\sum_{\\Theta}{P(x,3,\\theta)}}{P(3)}=\\frac{\\sum_{\\Theta}{P(x|3,\\theta)P(\\theta|3)P(3)}}{P(3)}=\\sum_{\\Theta}{P(x|\\theta)P(\\theta|3)}$\n",
    "\n",
    "where $\\theta$ is the vector containing $\\lambda$ and $k$\n",
    "\n",
    "$P(x|3)=\\sum_{\\Lambda,K}{P(x|\\lambda, k)P(\\lambda,k|3)}$\n",
    "\n",
    "and\n",
    "\n",
    "$P(\\lambda,k|3)=\\frac{P(3|\\lambda,k)P(\\lambda,k)}{\\sum_{\\Lambda,K}{P(3|\\lambda, k)P(\\lambda,k)}}$"
   ]
  },
  {
   "cell_type": "markdown",
   "metadata": {},
   "source": [
    "### Practice"
   ]
  },
  {
   "cell_type": "code",
   "execution_count": 546,
   "metadata": {
    "collapsed": true
   },
   "outputs": [],
   "source": [
    "from math import exp\n",
    "from pandas import DataFrame\n",
    "from ipywidgets import interact\n",
    "import ipywidgets as widgets\n",
    "from thinkbayes2 import MakeCdfFromPmf"
   ]
  },
  {
   "cell_type": "code",
   "execution_count": 478,
   "metadata": {
    "collapsed": true
   },
   "outputs": [],
   "source": [
    "def EvalWeibullPmf(x, lam, k):\n",
    "    \"\"\"Computes the Weibull PMF.\n",
    "    x: age\n",
    "    k: parameter k\n",
    "    lam: parameter lambda\n",
    "\n",
    "    returns: float probability\n",
    "    \"\"\"\n",
    "    return (k/lam)*((x/lam)**(k-1))*exp(-(x/lam)**k)\n",
    "\n",
    "def EvalWeibullCdf(x, lam, k):\n",
    "    \"\"\"Computes the Weibull CDF.\n",
    "    x: age\n",
    "    k: parameter k\n",
    "    lam: parameter lambda\n",
    "\n",
    "    returns: float probability\n",
    "    \"\"\"\n",
    "    return 1-exp(-(x/lam)**k)"
   ]
  },
  {
   "cell_type": "code",
   "execution_count": 511,
   "metadata": {
    "collapsed": true
   },
   "outputs": [],
   "source": [
    "widgets.FloatSlider?"
   ]
  },
  {
   "cell_type": "code",
   "execution_count": 513,
   "metadata": {
    "collapsed": false
   },
   "outputs": [
    {
     "data": {
      "image/png": "[encoded data removed]",
      "text/plain": [
       "<matplotlib.figure.Figure at 0x12828afd0>"
      ]
     },
     "metadata": {},
     "output_type": "display_data"
    }
   ],
   "source": [
    "@interact(\n",
    "    lam=widgets.FloatSlider(value=1, min=1, max=5), \n",
    "    k=widgets.FloatSlider(value=1, min=1, max=5, step=0.1))\n",
    "def plot_weibull(lam, k):\n",
    "    xs = np.linspace(0,5,100)\n",
    "    y1 = [EvalWeibullPmf(x, lam, k) for x in xs]\n",
    "    y2 = [EvalWeibullCdf(x, lam, k) for x in xs]\n",
    "    plt.plot(xs, y1)\n",
    "    plt.plot(xs, y2)\n",
    "    plt.legend(['pmf', 'cdf'])"
   ]
  },
  {
   "cell_type": "code",
   "execution_count": 492,
   "metadata": {
    "collapsed": true
   },
   "outputs": [],
   "source": [
    "class Light(Suite):\n",
    "    def __init__(self, lam, K):\n",
    "        pairs = [(l, k) for l in lam for k in K]\n",
    "        super(Light, self).__init__(pairs)\n",
    "        \n",
    "    def Likelihood(self, data, hypo):\n",
    "        lam, k = hypo\n",
    "        age, good = data\n",
    "        if good:\n",
    "            return 1-EvalWeibullCdf(age, lam, k)\n",
    "        else:\n",
    "            return EvalWeibullCdf(age, lam, k)"
   ]
  },
  {
   "cell_type": "code",
   "execution_count": 533,
   "metadata": {
    "collapsed": false
   },
   "outputs": [],
   "source": [
    "lambdas=np.linspace(1,10,100)\n",
    "K=np.linspace(1,10,100)\n",
    "light = Light(lambdas, K)"
   ]
  },
  {
   "cell_type": "code",
   "execution_count": 534,
   "metadata": {
    "collapsed": false
   },
   "outputs": [],
   "source": [
    "bad = [(1,False) for _ in range(3)]\n",
    "good = [(1,True) for _ in range(97)]"
   ]
  },
  {
   "cell_type": "code",
   "execution_count": 535,
   "metadata": {
    "collapsed": false
   },
   "outputs": [
    {
     "data": {
      "text/plain": [
       "1.577112305157214e-07"
      ]
     },
     "execution_count": 535,
     "metadata": {},
     "output_type": "execute_result"
    }
   ],
   "source": [
    "light.UpdateSet(good+bad)"
   ]
  },
  {
   "cell_type": "code",
   "execution_count": 536,
   "metadata": {
    "collapsed": false
   },
   "outputs": [],
   "source": [
    "Xs = []\n",
    "ys = []\n",
    "P = []\n",
    "for (x, y), prob in light.Items():\n",
    "    Xs.append(x)\n",
    "    ys.append(y)\n",
    "    P.append(prob)"
   ]
  },
  {
   "cell_type": "code",
   "execution_count": 537,
   "metadata": {
    "collapsed": false
   },
   "outputs": [],
   "source": [
    "df = DataFrame({'lambda': Xs, 'k':ys, 'prob':P})"
   ]
  },
  {
   "cell_type": "code",
   "execution_count": 538,
   "metadata": {
    "collapsed": false
   },
   "outputs": [
    {
     "data": {
      "image/png": "[encoded data removed]",
      "text/plain": [
       "<matplotlib.figure.Figure at 0x128288dd8>"
      ]
     },
     "metadata": {},
     "output_type": "display_data"
    }
   ],
   "source": [
    "df_lambda = df.groupby('lambda')['prob'].sum()\n",
    "df_k = df.groupby('k')['prob'].sum()\n",
    "plt.plot(df_lambda.index, df_lambda)\n",
    "plt.plot(df_k.index, df_k)\n",
    "plt.title(\"Max lambda: {:.4f}, Max k: {:.4f}\".format(df_lambda.idxmax(), df_k.idxmax()))\n",
    "_ = plt.legend(['lambda', 'k'])"
   ]
  },
  {
   "cell_type": "code",
   "execution_count": 539,
   "metadata": {
    "collapsed": false
   },
   "outputs": [],
   "source": [
    "def MakeWeibullPmf(lam, k, high, num=100):\n",
    "    \"\"\"Makes a PMF discrete approx to a Poisson distribution.\n",
    "\n",
    "    lam: parameter lambda in events per unit time\n",
    "    high: upper bound of the Pmf\n",
    "\n",
    "    returns: normalized Pmf\n",
    "    \"\"\"\n",
    "    pmf = Pmf()\n",
    "    for x in np.linspace(0.1, high, num):\n",
    "        \n",
    "        p = EvalWeibullPmf(x, lam, k)\n",
    "        pmf.Set(x, p)\n",
    "#         print(x, p, lam, k)\n",
    "    pmf.Normalize()\n",
    "    return pmf"
   ]
  },
  {
   "cell_type": "code",
   "execution_count": 540,
   "metadata": {
    "collapsed": false
   },
   "outputs": [],
   "source": [
    "metapmf = Pmf()\n",
    "for (lam, k), prob in light.Items():\n",
    "    try:\n",
    "        pmf = MakeWeibullPmf(lam, k, 5, 100)\n",
    "        metapmf.Set(pmf, prob)\n",
    "    except Exception as e:\n",
    "        print(e)\n",
    "        print(lam, k, prob)\n",
    "metapmf.Normalize()\n",
    "mix = MakeMixture(metapmf)"
   ]
  },
  {
   "cell_type": "code",
   "execution_count": 548,
   "metadata": {
    "collapsed": false
   },
   "outputs": [
    {
     "data": {
      "text/plain": [
       "<matplotlib.legend.Legend at 0x126f11ef0>"
      ]
     },
     "execution_count": 548,
     "metadata": {},
     "output_type": "execute_result"
    },
    {
     "data": {
      "image/png": "[encoded data removed]",
      "text/plain": [
       "<matplotlib.figure.Figure at 0x128850518>"
      ]
     },
     "metadata": {},
     "output_type": "display_data"
    }
   ],
   "source": [
    "xs = np.linspace(0.1, 5, 100)\n",
    "plt.plot(xs, [mix.Prob(x) for x in xs])\n",
    "mixCdf = MakeCdfFromPmf(mix)\n",
    "plt.plot(xs, [mixCdf.Prob(x) for x in xs])\n",
    "plt.legend(['mixture pmf', 'mixture cdf'])"
   ]
  },
  {
   "cell_type": "code",
   "execution_count": 542,
   "metadata": {
    "collapsed": false
   },
   "outputs": [
    {
     "data": {
      "text/plain": [
       "0.62817697855681165"
      ]
     },
     "execution_count": 542,
     "metadata": {},
     "output_type": "execute_result"
    }
   ],
   "source": [
    "mix.ProbLess(3)"
   ]
  },
  {
   "cell_type": "code",
   "execution_count": 543,
   "metadata": {
    "collapsed": false
   },
   "outputs": [
    {
     "data": {
      "text/plain": [
       "0.37182302144319007"
      ]
     },
     "execution_count": 543,
     "metadata": {},
     "output_type": "execute_result"
    }
   ],
   "source": [
    "mix.ProbGreater(3)"
   ]
  },
  {
   "cell_type": "code",
   "execution_count": 544,
   "metadata": {
    "collapsed": true
   },
   "outputs": [],
   "source": [
    "import thinkbayes2"
   ]
  },
  {
   "cell_type": "code",
   "execution_count": 545,
   "metadata": {
    "collapsed": true
   },
   "outputs": [],
   "source": [
    "\n",
    "thinkbayes2.MakeCdfFromPmf?"
   ]
  },
  {
   "cell_type": "code",
   "execution_count": null,
   "metadata": {
    "collapsed": true
   },
   "outputs": [],
   "source": []
  }
 ],
 "metadata": {
  "kernelspec": {
   "display_name": "Python 3",
   "language": "python",
   "name": "python3"
  },
  "language_info": {
   "codemirror_mode": {
    "name": "ipython",
    "version": 3
   },
   "file_extension": ".py",
   "mimetype": "text/x-python",
   "name": "python",
   "nbconvert_exporter": "python",
   "pygments_lexer": "ipython3",
   "version": "3.4.4"
  }
 },
 "nbformat": 4,
 "nbformat_minor": 0
}
